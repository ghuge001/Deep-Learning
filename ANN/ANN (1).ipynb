{
 "cells": [
  {
   "cell_type": "markdown",
   "id": "d6c95f9a",
   "metadata": {},
   "source": [
    "# Basic Gradient Decent Optimizer"
   ]
  },
  {
   "cell_type": "code",
   "execution_count": 1,
   "id": "a36c27e5",
   "metadata": {
    "ExecuteTime": {
     "end_time": "2023-02-06T15:40:17.743308Z",
     "start_time": "2023-02-06T15:40:14.801028Z"
    }
   },
   "outputs": [],
   "source": [
    "import numpy as np \n",
    "from sklearn.metrics import mean_squared_error"
   ]
  },
  {
   "cell_type": "code",
   "execution_count": 2,
   "id": "573e839c",
   "metadata": {
    "ExecuteTime": {
     "end_time": "2023-02-06T15:40:17.759213Z",
     "start_time": "2023-02-06T15:40:17.748944Z"
    }
   },
   "outputs": [],
   "source": [
    "x = np.array([1,2,3,4])\n",
    "y = np.array([10,12,20,25])"
   ]
  },
  {
   "cell_type": "code",
   "execution_count": 3,
   "id": "2fcb89fa",
   "metadata": {
    "ExecuteTime": {
     "end_time": "2023-02-06T15:40:17.775064Z",
     "start_time": "2023-02-06T15:40:17.763169Z"
    }
   },
   "outputs": [],
   "source": [
    "def gradient_descent(x,y):\n",
    "    weight = 0.1\n",
    "    bias = 0.1\n",
    "    learning_rate = 0.05\n",
    "    n = len(x)\n",
    "    iteration = 100\n",
    "\n",
    "    # Forward propagation\n",
    "    for i in range(iteration):\n",
    "        ypred = weight*x+bias\n",
    "        mse = mean_squared_error(y,ypred)\n",
    "    \n",
    "    \n",
    "    #Backward propagation\n",
    "        dw = -(2/n)*sum(x*(y-ypred))\n",
    "        db = -(2/n)*sum(y- ypred)\n",
    "    \n",
    "    #Update the weights and bias\n",
    "    \n",
    "        weight = weight-(learning_rate*dw)\n",
    "        bias = bias -(learning_rate*db)\n",
    "    \n",
    "        print(f\"{i} MSE: {mse}, Weight: {weight}, Bias: {bias}\")"
   ]
  },
  {
   "cell_type": "code",
   "execution_count": 4,
   "id": "4dcf8b3c",
   "metadata": {
    "ExecuteTime": {
     "end_time": "2023-02-06T15:40:17.824263Z",
     "start_time": "2023-02-06T15:40:17.778192Z"
    }
   },
   "outputs": [
    {
     "name": "stdout",
     "output_type": "stream",
     "text": [
      "0 MSE: 304.33500000000004, Weight: 4.85, Bias: 1.74\n",
      "1 MSE: 10.151350000000008, Weight: 5.6275, Bias: 2.0285\n",
      "2 MSE: 2.135152874999998, Weight: 5.74975, Bias: 2.093775\n",
      "3 MSE: 1.9072832506249988, Weight: 5.76399375, Bias: 2.12196\n",
      "4 MSE: 1.8916610056429681, Weight: 5.7605084374999995, Bias: 2.1437655625\n",
      "5 MSE: 1.8820949985420456, Weight: 5.75418571875, Bias: 2.1642618968750003\n",
      "6 MSE: 1.8729654313654303, Weight: 5.74748095546875, Bias: 2.1842892775000005\n",
      "7 MSE: 1.8641112904817663, Weight: 5.740797919492187, Bias: 2.203990110882813\n",
      "8 MSE: 1.855520362583569, Weight: 5.734201952152343, Bias: 2.2233916199214847\n",
      "9 MSE: 1.8471847166628241, Weight: 5.727702583057715, Bias: 2.2425019698912503\n",
      "10 MSE: 1.8390967640466949, Weight: 5.721300153291616, Bias: 2.2613261271376963\n",
      "11 MSE: 1.8312491444622006, Weight: 5.71499350653848, Bias: 2.2798684761010226\n",
      "12 MSE: 1.8236347164254376, Weight: 5.708781257609364, Bias: 2.2981332518563002\n",
      "13 MSE: 1.8162465506634193, Weight: 5.702662001438266, Bias: 2.316124612268329\n",
      "14 MSE: 1.8090779238061507, Weight: 5.696634347292484, Bias: 2.33384665068193\n",
      "15 MSE: 1.8021223122681795, Weight: 5.690696924152638, Bias: 2.351303398790616\n",
      "16 MSE: 1.7953733863120034, Weight: 5.6848483813405055, Bias: 2.3684988278733945\n",
      "17 MSE: 1.7888250042878904, Weight: 5.679087388366778, Bias: 2.3854368497509286\n",
      "18 MSE: 1.7824712070448707, Weight: 5.673412634653962, Bias: 2.4021213176841414\n",
      "19 MSE: 1.7763062125077818, Weight: 5.667822829242455, Bias: 2.4185560272522366\n",
      "20 MSE: 1.7703244104154825, Weight: 5.662316700497555, Bias: 2.434744717216399\n",
      "21 MSE: 1.7645203572154098, Weight: 5.6568929958202885, Bias: 2.4506910703703704\n",
      "22 MSE: 1.7588887711098378, Weight: 5.651550481362479, Bias: 2.4663987143782613\n",
      "23 MSE: 1.7534245272493438, Weight: 5.6462879417460545, Bias: 2.4818712225998154\n",
      "24 MSE: 1.7481226530691016, Weight: 5.64110417978656, Bias: 2.49711211490332\n",
      "25 MSE: 1.7429783237637517, Weight: 5.63599801622081, Bias: 2.5121248584663483\n",
      "26 MSE: 1.7379868578967361, Weight: 5.6309682894386155, Bias: 2.526912868564511\n",
      "27 MSE: 1.7331437131401064, Weight: 5.626013855218526, Bias: 2.541479509348406\n",
      "28 MSE: 1.7284444821409208, Weight: 5.62113358646753, Bias: 2.555828094608934\n",
      "29 MSE: 1.7238848885104634, Weight: 5.616326372964649, Bias: 2.569961888531158\n",
      "30 MSE: 1.719460782932655, Weight: 5.611591121108373, Bias: 2.58388410643688\n",
      "31 MSE: 1.7151681393880926, Weight: 5.6069267536678735, Bias: 2.597597915516099\n",
      "32 MSE: 1.711003051490308, Weight: 5.602332209537944, Bias: 2.6111064355475206\n",
      "33 MSE: 1.7069617289308654, Weight: 5.597806443497606, Bias: 2.6244127396082826\n",
      "34 MSE: 1.7030404940301225, Weight: 5.593348425972331, Bias: 2.637519854773053\n",
      "35 MSE: 1.6992357783904657, Weight: 5.58895714279982, Bias: 2.6504307628026647\n",
      "36 MSE: 1.695544119649007, Weight: 5.584631594999289, Bias: 2.6631484008224433\n",
      "37 MSE: 1.6919621583267597, Weight: 5.5803707985442115, Bias: 2.6756756619903768\n",
      "38 MSE: 1.688486634771463, Weight: 5.576173784138459, Bias: 2.6880153961552864\n",
      "39 MSE: 1.6851143861912177, Weight: 5.572039596995793, Bias: 2.700170410505143\n",
      "40 MSE: 1.6818423437763048, Weight: 5.567967296622663, Bias: 2.7121434702056804\n",
      "41 MSE: 1.6786675299065013, Weight: 5.563955956604246, Bias: 2.7239372990294464\n",
      "42 MSE: 1.6755870554413923, Weight: 5.560004664393699, Bias: 2.73555457997544\n",
      "43 MSE: 1.6725981170911974, Weight: 5.5561125211045646, Bias: 2.7469979558794715\n",
      "44 MSE: 1.6696979948657193, Weight: 5.552278641306273, Bias: 2.758270030015383\n",
      "45 MSE: 1.6668840495991155, Weight: 5.5485021528227225, Bias: 2.7693733666872764\n",
      "46 MSE: 1.6641537205481944, Weight: 5.544782196533862, Bias: 2.7803104918128683\n",
      "47 MSE: 1.6615045230620964, Weight: 5.541117926180248, Bias: 2.791083893498116\n",
      "48 MSE: 1.658934046321218, Weight: 5.537508508170533, Bias: 2.8016960226032426\n",
      "49 MSE: 1.6564399511433057, Weight: 5.533953121391822, Bias: 2.812149293300285\n",
      "50 MSE: 1.6540199678547753, Weight: 5.530450957022884, Bias: 2.822446083622301\n",
      "51 MSE: 1.651671894225263, Weight: 5.527001218350146, Bias: 2.83258873600435\n",
      "52 MSE: 1.6493935934635346, Weight: 5.523603120586449, Bias: 2.842579557816378\n",
      "53 MSE: 1.6471829922729895, Weight: 5.520255890692518, Bias: 2.852420821888128\n",
      "54 MSE: 1.6450380789649102, Weight: 5.516958767201097, Bias: 2.862114767026186\n",
      "55 MSE: 1.6429569016277903, Weight: 5.5137110000437275, Bias: 2.8716635985232934\n",
      "56 MSE: 1.640937566351052, Weight: 5.510511850380109, Bias: 2.881069488660032\n",
      "57 MSE: 1.6389782355015663, Weight: 5.507360590430019, Bias: 2.8903345771990017\n",
      "58 MSE: 1.6370771260513532, Weight: 5.504256503307754, Bias: 2.899460971871597\n",
      "59 MSE: 1.635232507955013, Weight: 5.501198882859039, Bias: 2.9084507488574984\n",
      "60 MSE: 1.6334427025753333, Weight: 5.498187033500385, Bias: 2.917305953256989\n",
      "61 MSE: 1.6317060811557063, Weight: 5.495220270060849, Bias: 2.926028599556194\n",
      "62 MSE: 1.6300210633379364, Weight: 5.492297917626164, Bias: 2.9346206720853623\n",
      "63 MSE: 1.6283861157240747, Weight: 5.4894193113852, Bias: 2.943084125470285\n",
      "64 MSE: 1.6267997504809966, Weight: 5.486583796478729, Bias: 2.9514208850769563\n",
      "65 MSE: 1.6252605239864555, Weight: 5.483790727850443, Bias: 2.9596328474495786\n",
      "66 MSE: 1.6237670355153497, Weight: 5.481039470100216, Bias: 2.96772188074201\n",
      "67 MSE: 1.622317925965044, Weight: 5.478329397339551, Bias: 2.975689825142755\n",
      "68 MSE: 1.6209118766185557, Weight: 5.475659893049199, Bias: 2.983538493293592\n",
      "69 MSE: 1.6195476079444933, Weight: 5.4730303499389015, Bias: 2.991269670701933\n",
      "70 MSE: 1.618223878432676, Weight: 5.470440169809242, Bias: 2.9988851161470143\n",
      "71 MSE: 1.6169394834643103, Weight: 5.467888763415557, Bias: 3.006386562080002\n",
      "72 MSE: 1.6156932542157867, Weight: 5.4653755503338886, Bias: 3.0137757150181126\n",
      "73 MSE: 1.614484056595016, Weight: 5.4628999588289435, Bias: 3.021054255932829\n",
      "74 MSE: 1.613310790209391, Weight: 5.460461425724029, Bias: 3.02822384063231\n",
      "75 MSE: 1.612172387364408, Weight: 5.45805939627293, Bias: 3.0352861001380718\n",
      "76 MSE: 1.611067812092029, Weight: 5.455693324033715, Bias: 3.042242641056032\n",
      "77 MSE: 1.609996059207959, Weight: 5.45336267074442, Bias: 3.0490950459420003\n",
      "78 MSE: 1.6089561533968826, Weight: 5.451066906200605, Bias: 3.0558448736616954\n",
      "79 MSE: 1.6079471483249306, Weight: 5.448805508134727, Bias: 3.0624936597453747\n",
      "80 MSE: 1.6069681257784814, Weight: 5.446577962097338, Bias: 3.069042916737155\n",
      "81 MSE: 1.6060181948285805, Weight: 5.444383761340046, Bias: 3.075494134539105\n",
      "82 MSE: 1.6050964910201697, Weight: 5.442222406700235, Bias: 3.081848780750183\n",
      "83 MSE: 1.6042021755854288, Weight: 5.440093406487513, Bias: 3.088108301000106\n",
      "84 MSE: 1.6033344346804637, Weight: 5.437996276371852, Bias: 3.094274119278217\n",
      "85 MSE: 1.6024924786447095, Weight: 5.435930539273408, Bias: 3.1003476382574324\n",
      "86 MSE: 1.6016755412823158, Weight: 5.433895725253994, Bias: 3.106330239613337\n",
      "87 MSE: 1.6008828791648986, Weight: 5.431891371410164, Bias: 3.1122232843385045\n",
      "88 MSE: 1.6001137709550008, Weight: 5.429917021767915, Bias: 3.118028113052113\n",
      "89 MSE: 1.5993675167496648, Weight: 5.427972227178951, Bias: 3.1237460463049227\n",
      "90 MSE: 1.5986434374435115, Weight: 5.426056545218507, Bias: 3.1293783848796926\n",
      "91 MSE: 1.59794087411073, Weight: 5.424169540084703, Bias: 3.134926410087097\n",
      "92 MSE: 1.5972591874054618, Weight: 5.422310782499402, Bias: 3.1403913840572115\n",
      "93 MSE: 1.5965977569799616, Weight: 5.4204798496105475, Bias: 3.14577455002664\n",
      "94 MSE: 1.5959559809200854, Weight: 5.418676324895976, Bias: 3.151077132621339\n",
      "95 MSE: 1.5953332751975335, Weight: 5.416899798068659, Bias: 3.1563003381352113\n",
      "96 MSE: 1.5947290731383685, Weight: 5.415149864983362, Bias: 3.1614453548045254\n",
      "97 MSE: 1.5941428249073395, Weight: 5.413426127544709, Bias: 3.1665133530782326\n",
      "98 MSE: 1.5935739970075085, Weight: 5.411728193616619, Bias: 3.171505485884232\n",
      "99 MSE: 1.5930220717947816, Weight: 5.410055676933097, Bias: 3.176422888891654\n"
     ]
    }
   ],
   "source": [
    "gradient_descent(x,y)"
   ]
  },
  {
   "cell_type": "markdown",
   "id": "5cb98e51",
   "metadata": {},
   "source": [
    "# Artificial Neural Network"
   ]
  },
  {
   "cell_type": "markdown",
   "id": "f8bd607c",
   "metadata": {},
   "source": [
    "# Classification"
   ]
  },
  {
   "cell_type": "code",
   "execution_count": 5,
   "id": "c71f726e",
   "metadata": {
    "ExecuteTime": {
     "end_time": "2023-02-06T15:40:24.045409Z",
     "start_time": "2023-02-06T15:40:17.827491Z"
    }
   },
   "outputs": [
    {
     "name": "stdout",
     "output_type": "stream",
     "text": [
      "Requirement already satisfied: tensorflow in c:\\users\\hp\\anaconda3\\lib\\site-packages (2.11.0)\n",
      "Requirement already satisfied: tensorflow-intel==2.11.0 in c:\\users\\hp\\anaconda3\\lib\\site-packages (from tensorflow) (2.11.0)\n",
      "Requirement already satisfied: absl-py>=1.0.0 in c:\\users\\hp\\anaconda3\\lib\\site-packages (from tensorflow-intel==2.11.0->tensorflow) (1.4.0)\n",
      "Requirement already satisfied: tensorboard<2.12,>=2.11 in c:\\users\\hp\\anaconda3\\lib\\site-packages (from tensorflow-intel==2.11.0->tensorflow) (2.11.2)\n",
      "Requirement already satisfied: tensorflow-estimator<2.12,>=2.11.0 in c:\\users\\hp\\anaconda3\\lib\\site-packages (from tensorflow-intel==2.11.0->tensorflow) (2.11.0)\n",
      "Requirement already satisfied: astunparse>=1.6.0 in c:\\users\\hp\\anaconda3\\lib\\site-packages (from tensorflow-intel==2.11.0->tensorflow) (1.6.3)\n",
      "Requirement already satisfied: grpcio<2.0,>=1.24.3 in c:\\users\\hp\\anaconda3\\lib\\site-packages (from tensorflow-intel==2.11.0->tensorflow) (1.51.1)\n",
      "Requirement already satisfied: packaging in c:\\users\\hp\\anaconda3\\lib\\site-packages (from tensorflow-intel==2.11.0->tensorflow) (21.3)\n",
      "Requirement already satisfied: tensorflow-io-gcs-filesystem>=0.23.1 in c:\\users\\hp\\anaconda3\\lib\\site-packages (from tensorflow-intel==2.11.0->tensorflow) (0.30.0)\n",
      "Requirement already satisfied: typing-extensions>=3.6.6 in c:\\users\\hp\\anaconda3\\lib\\site-packages (from tensorflow-intel==2.11.0->tensorflow) (4.3.0)\n",
      "Requirement already satisfied: google-pasta>=0.1.1 in c:\\users\\hp\\anaconda3\\lib\\site-packages (from tensorflow-intel==2.11.0->tensorflow) (0.2.0)\n",
      "Requirement already satisfied: opt-einsum>=2.3.2 in c:\\users\\hp\\anaconda3\\lib\\site-packages (from tensorflow-intel==2.11.0->tensorflow) (3.3.0)\n",
      "Requirement already satisfied: flatbuffers>=2.0 in c:\\users\\hp\\anaconda3\\lib\\site-packages (from tensorflow-intel==2.11.0->tensorflow) (23.1.21)\n",
      "Requirement already satisfied: protobuf<3.20,>=3.9.2 in c:\\users\\hp\\anaconda3\\lib\\site-packages (from tensorflow-intel==2.11.0->tensorflow) (3.19.6)\n",
      "Requirement already satisfied: wrapt>=1.11.0 in c:\\users\\hp\\anaconda3\\lib\\site-packages (from tensorflow-intel==2.11.0->tensorflow) (1.14.1)\n",
      "Requirement already satisfied: numpy>=1.20 in c:\\users\\hp\\anaconda3\\lib\\site-packages (from tensorflow-intel==2.11.0->tensorflow) (1.21.5)\n",
      "Requirement already satisfied: keras<2.12,>=2.11.0 in c:\\users\\hp\\anaconda3\\lib\\site-packages (from tensorflow-intel==2.11.0->tensorflow) (2.11.0)\n",
      "Requirement already satisfied: gast<=0.4.0,>=0.2.1 in c:\\users\\hp\\anaconda3\\lib\\site-packages (from tensorflow-intel==2.11.0->tensorflow) (0.4.0)\n",
      "Requirement already satisfied: libclang>=13.0.0 in c:\\users\\hp\\anaconda3\\lib\\site-packages (from tensorflow-intel==2.11.0->tensorflow) (15.0.6.1)\n",
      "Requirement already satisfied: h5py>=2.9.0 in c:\\users\\hp\\anaconda3\\lib\\site-packages (from tensorflow-intel==2.11.0->tensorflow) (3.7.0)\n",
      "Requirement already satisfied: termcolor>=1.1.0 in c:\\users\\hp\\anaconda3\\lib\\site-packages (from tensorflow-intel==2.11.0->tensorflow) (2.2.0)\n",
      "Requirement already satisfied: six>=1.12.0 in c:\\users\\hp\\anaconda3\\lib\\site-packages (from tensorflow-intel==2.11.0->tensorflow) (1.16.0)\n",
      "Requirement already satisfied: setuptools in c:\\users\\hp\\anaconda3\\lib\\site-packages (from tensorflow-intel==2.11.0->tensorflow) (63.4.1)\n",
      "Requirement already satisfied: wheel<1.0,>=0.23.0 in c:\\users\\hp\\anaconda3\\lib\\site-packages (from astunparse>=1.6.0->tensorflow-intel==2.11.0->tensorflow) (0.37.1)\n",
      "Requirement already satisfied: google-auth<3,>=1.6.3 in c:\\users\\hp\\anaconda3\\lib\\site-packages (from tensorboard<2.12,>=2.11->tensorflow-intel==2.11.0->tensorflow) (2.16.0)\n",
      "Requirement already satisfied: tensorboard-plugin-wit>=1.6.0 in c:\\users\\hp\\anaconda3\\lib\\site-packages (from tensorboard<2.12,>=2.11->tensorflow-intel==2.11.0->tensorflow) (1.8.1)\n",
      "Requirement already satisfied: werkzeug>=1.0.1 in c:\\users\\hp\\anaconda3\\lib\\site-packages (from tensorboard<2.12,>=2.11->tensorflow-intel==2.11.0->tensorflow) (2.0.3)\n",
      "Requirement already satisfied: markdown>=2.6.8 in c:\\users\\hp\\anaconda3\\lib\\site-packages (from tensorboard<2.12,>=2.11->tensorflow-intel==2.11.0->tensorflow) (3.3.4)\n",
      "Requirement already satisfied: tensorboard-data-server<0.7.0,>=0.6.0 in c:\\users\\hp\\anaconda3\\lib\\site-packages (from tensorboard<2.12,>=2.11->tensorflow-intel==2.11.0->tensorflow) (0.6.1)\n",
      "Requirement already satisfied: google-auth-oauthlib<0.5,>=0.4.1 in c:\\users\\hp\\anaconda3\\lib\\site-packages (from tensorboard<2.12,>=2.11->tensorflow-intel==2.11.0->tensorflow) (0.4.6)\n",
      "Requirement already satisfied: requests<3,>=2.21.0 in c:\\users\\hp\\anaconda3\\lib\\site-packages (from tensorboard<2.12,>=2.11->tensorflow-intel==2.11.0->tensorflow) (2.28.1)\n",
      "Requirement already satisfied: pyparsing!=3.0.5,>=2.0.2 in c:\\users\\hp\\anaconda3\\lib\\site-packages (from packaging->tensorflow-intel==2.11.0->tensorflow) (3.0.9)\n",
      "Requirement already satisfied: cachetools<6.0,>=2.0.0 in c:\\users\\hp\\anaconda3\\lib\\site-packages (from google-auth<3,>=1.6.3->tensorboard<2.12,>=2.11->tensorflow-intel==2.11.0->tensorflow) (5.3.0)\n",
      "Requirement already satisfied: pyasn1-modules>=0.2.1 in c:\\users\\hp\\anaconda3\\lib\\site-packages (from google-auth<3,>=1.6.3->tensorboard<2.12,>=2.11->tensorflow-intel==2.11.0->tensorflow) (0.2.8)\n",
      "Requirement already satisfied: rsa<5,>=3.1.4 in c:\\users\\hp\\anaconda3\\lib\\site-packages (from google-auth<3,>=1.6.3->tensorboard<2.12,>=2.11->tensorflow-intel==2.11.0->tensorflow) (4.9)\n",
      "Requirement already satisfied: requests-oauthlib>=0.7.0 in c:\\users\\hp\\anaconda3\\lib\\site-packages (from google-auth-oauthlib<0.5,>=0.4.1->tensorboard<2.12,>=2.11->tensorflow-intel==2.11.0->tensorflow) (1.3.1)\n",
      "Requirement already satisfied: urllib3<1.27,>=1.21.1 in c:\\users\\hp\\anaconda3\\lib\\site-packages (from requests<3,>=2.21.0->tensorboard<2.12,>=2.11->tensorflow-intel==2.11.0->tensorflow) (1.26.11)\n",
      "Requirement already satisfied: charset-normalizer<3,>=2 in c:\\users\\hp\\anaconda3\\lib\\site-packages (from requests<3,>=2.21.0->tensorboard<2.12,>=2.11->tensorflow-intel==2.11.0->tensorflow) (2.0.4)\n",
      "Requirement already satisfied: idna<4,>=2.5 in c:\\users\\hp\\anaconda3\\lib\\site-packages (from requests<3,>=2.21.0->tensorboard<2.12,>=2.11->tensorflow-intel==2.11.0->tensorflow) (3.3)\n",
      "Requirement already satisfied: certifi>=2017.4.17 in c:\\users\\hp\\anaconda3\\lib\\site-packages (from requests<3,>=2.21.0->tensorboard<2.12,>=2.11->tensorflow-intel==2.11.0->tensorflow) (2022.9.14)\n",
      "Requirement already satisfied: pyasn1<0.5.0,>=0.4.6 in c:\\users\\hp\\anaconda3\\lib\\site-packages (from pyasn1-modules>=0.2.1->google-auth<3,>=1.6.3->tensorboard<2.12,>=2.11->tensorflow-intel==2.11.0->tensorflow) (0.4.8)\n",
      "Requirement already satisfied: oauthlib>=3.0.0 in c:\\users\\hp\\anaconda3\\lib\\site-packages (from requests-oauthlib>=0.7.0->google-auth-oauthlib<0.5,>=0.4.1->tensorboard<2.12,>=2.11->tensorflow-intel==2.11.0->tensorflow) (3.2.2)\n"
     ]
    }
   ],
   "source": [
    "!pip install tensorflow"
   ]
  },
  {
   "cell_type": "code",
   "execution_count": 6,
   "id": "f74fbe58",
   "metadata": {
    "ExecuteTime": {
     "end_time": "2023-02-06T15:40:35.024634Z",
     "start_time": "2023-02-06T15:40:24.047833Z"
    }
   },
   "outputs": [],
   "source": [
    "import tensorflow as tf \n",
    "import pandas as pd \n",
    "from tensorflow.keras import Sequential\n",
    "from tensorflow.keras.layers import Dense\n",
    "from sklearn.metrics import classification_report, r2_score\n",
    "from sklearn.preprocessing import StandardScaler\n",
    "from sklearn.model_selection import train_test_split"
   ]
  },
  {
   "cell_type": "code",
   "execution_count": 9,
   "id": "f19e127c",
   "metadata": {
    "ExecuteTime": {
     "end_time": "2023-02-06T15:40:35.331885Z",
     "start_time": "2023-02-06T15:40:35.293147Z"
    }
   },
   "outputs": [
    {
     "data": {
      "text/html": [
       "<div>\n",
       "<style scoped>\n",
       "    .dataframe tbody tr th:only-of-type {\n",
       "        vertical-align: middle;\n",
       "    }\n",
       "\n",
       "    .dataframe tbody tr th {\n",
       "        vertical-align: top;\n",
       "    }\n",
       "\n",
       "    .dataframe thead th {\n",
       "        text-align: right;\n",
       "    }\n",
       "</style>\n",
       "<table border=\"1\" class=\"dataframe\">\n",
       "  <thead>\n",
       "    <tr style=\"text-align: right;\">\n",
       "      <th></th>\n",
       "      <th>CreditScore</th>\n",
       "      <th>Age</th>\n",
       "      <th>Tenure</th>\n",
       "      <th>Balance</th>\n",
       "      <th>NumOfProducts</th>\n",
       "      <th>HasCrCard</th>\n",
       "      <th>IsActiveMember</th>\n",
       "      <th>EstimatedSalary</th>\n",
       "      <th>Exited</th>\n",
       "    </tr>\n",
       "  </thead>\n",
       "  <tbody>\n",
       "    <tr>\n",
       "      <th>0</th>\n",
       "      <td>619</td>\n",
       "      <td>42</td>\n",
       "      <td>2</td>\n",
       "      <td>0.00</td>\n",
       "      <td>1</td>\n",
       "      <td>1</td>\n",
       "      <td>1</td>\n",
       "      <td>101348.88</td>\n",
       "      <td>1</td>\n",
       "    </tr>\n",
       "    <tr>\n",
       "      <th>1</th>\n",
       "      <td>608</td>\n",
       "      <td>41</td>\n",
       "      <td>1</td>\n",
       "      <td>83807.86</td>\n",
       "      <td>1</td>\n",
       "      <td>0</td>\n",
       "      <td>1</td>\n",
       "      <td>112542.58</td>\n",
       "      <td>0</td>\n",
       "    </tr>\n",
       "    <tr>\n",
       "      <th>2</th>\n",
       "      <td>502</td>\n",
       "      <td>42</td>\n",
       "      <td>8</td>\n",
       "      <td>159660.80</td>\n",
       "      <td>3</td>\n",
       "      <td>1</td>\n",
       "      <td>0</td>\n",
       "      <td>113931.57</td>\n",
       "      <td>1</td>\n",
       "    </tr>\n",
       "    <tr>\n",
       "      <th>3</th>\n",
       "      <td>699</td>\n",
       "      <td>39</td>\n",
       "      <td>1</td>\n",
       "      <td>0.00</td>\n",
       "      <td>2</td>\n",
       "      <td>0</td>\n",
       "      <td>0</td>\n",
       "      <td>93826.63</td>\n",
       "      <td>0</td>\n",
       "    </tr>\n",
       "    <tr>\n",
       "      <th>4</th>\n",
       "      <td>850</td>\n",
       "      <td>43</td>\n",
       "      <td>2</td>\n",
       "      <td>125510.82</td>\n",
       "      <td>1</td>\n",
       "      <td>1</td>\n",
       "      <td>1</td>\n",
       "      <td>79084.10</td>\n",
       "      <td>0</td>\n",
       "    </tr>\n",
       "    <tr>\n",
       "      <th>...</th>\n",
       "      <td>...</td>\n",
       "      <td>...</td>\n",
       "      <td>...</td>\n",
       "      <td>...</td>\n",
       "      <td>...</td>\n",
       "      <td>...</td>\n",
       "      <td>...</td>\n",
       "      <td>...</td>\n",
       "      <td>...</td>\n",
       "    </tr>\n",
       "    <tr>\n",
       "      <th>9995</th>\n",
       "      <td>771</td>\n",
       "      <td>39</td>\n",
       "      <td>5</td>\n",
       "      <td>0.00</td>\n",
       "      <td>2</td>\n",
       "      <td>1</td>\n",
       "      <td>0</td>\n",
       "      <td>96270.64</td>\n",
       "      <td>0</td>\n",
       "    </tr>\n",
       "    <tr>\n",
       "      <th>9996</th>\n",
       "      <td>516</td>\n",
       "      <td>35</td>\n",
       "      <td>10</td>\n",
       "      <td>57369.61</td>\n",
       "      <td>1</td>\n",
       "      <td>1</td>\n",
       "      <td>1</td>\n",
       "      <td>101699.77</td>\n",
       "      <td>0</td>\n",
       "    </tr>\n",
       "    <tr>\n",
       "      <th>9997</th>\n",
       "      <td>709</td>\n",
       "      <td>36</td>\n",
       "      <td>7</td>\n",
       "      <td>0.00</td>\n",
       "      <td>1</td>\n",
       "      <td>0</td>\n",
       "      <td>1</td>\n",
       "      <td>42085.58</td>\n",
       "      <td>1</td>\n",
       "    </tr>\n",
       "    <tr>\n",
       "      <th>9998</th>\n",
       "      <td>772</td>\n",
       "      <td>42</td>\n",
       "      <td>3</td>\n",
       "      <td>75075.31</td>\n",
       "      <td>2</td>\n",
       "      <td>1</td>\n",
       "      <td>0</td>\n",
       "      <td>92888.52</td>\n",
       "      <td>1</td>\n",
       "    </tr>\n",
       "    <tr>\n",
       "      <th>9999</th>\n",
       "      <td>792</td>\n",
       "      <td>28</td>\n",
       "      <td>4</td>\n",
       "      <td>130142.79</td>\n",
       "      <td>1</td>\n",
       "      <td>1</td>\n",
       "      <td>0</td>\n",
       "      <td>38190.78</td>\n",
       "      <td>0</td>\n",
       "    </tr>\n",
       "  </tbody>\n",
       "</table>\n",
       "<p>10000 rows × 9 columns</p>\n",
       "</div>"
      ],
      "text/plain": [
       "      CreditScore  Age  Tenure    Balance  NumOfProducts  HasCrCard  \\\n",
       "0             619   42       2       0.00              1          1   \n",
       "1             608   41       1   83807.86              1          0   \n",
       "2             502   42       8  159660.80              3          1   \n",
       "3             699   39       1       0.00              2          0   \n",
       "4             850   43       2  125510.82              1          1   \n",
       "...           ...  ...     ...        ...            ...        ...   \n",
       "9995          771   39       5       0.00              2          1   \n",
       "9996          516   35      10   57369.61              1          1   \n",
       "9997          709   36       7       0.00              1          0   \n",
       "9998          772   42       3   75075.31              2          1   \n",
       "9999          792   28       4  130142.79              1          1   \n",
       "\n",
       "      IsActiveMember  EstimatedSalary  Exited  \n",
       "0                  1        101348.88       1  \n",
       "1                  1        112542.58       0  \n",
       "2                  0        113931.57       1  \n",
       "3                  0         93826.63       0  \n",
       "4                  1         79084.10       0  \n",
       "...              ...              ...     ...  \n",
       "9995               0         96270.64       0  \n",
       "9996               1        101699.77       0  \n",
       "9997               1         42085.58       1  \n",
       "9998               0         92888.52       1  \n",
       "9999               0         38190.78       0  \n",
       "\n",
       "[10000 rows x 9 columns]"
      ]
     },
     "execution_count": 9,
     "metadata": {},
     "output_type": "execute_result"
    }
   ],
   "source": [
    "df = pd.read_csv(r\"C:\\Users\\HP\\Downloads\\classification.csv\")\n",
    "df\n"
   ]
  },
  {
   "cell_type": "code",
   "execution_count": 10,
   "id": "5084906d",
   "metadata": {
    "ExecuteTime": {
     "end_time": "2023-02-06T15:40:52.933075Z",
     "start_time": "2023-02-06T15:40:52.907198Z"
    }
   },
   "outputs": [
    {
     "data": {
      "text/plain": [
       "CreditScore        0\n",
       "Age                0\n",
       "Tenure             0\n",
       "Balance            0\n",
       "NumOfProducts      0\n",
       "HasCrCard          0\n",
       "IsActiveMember     0\n",
       "EstimatedSalary    0\n",
       "Exited             0\n",
       "dtype: int64"
      ]
     },
     "execution_count": 10,
     "metadata": {},
     "output_type": "execute_result"
    }
   ],
   "source": [
    "df.isnull().sum()"
   ]
  },
  {
   "cell_type": "code",
   "execution_count": 12,
   "id": "e543be45",
   "metadata": {
    "ExecuteTime": {
     "end_time": "2023-02-06T15:41:35.486608Z",
     "start_time": "2023-02-06T15:41:35.472973Z"
    }
   },
   "outputs": [],
   "source": [
    "x = df.iloc[:,:-1]\n",
    "y = df.iloc[:,-1]"
   ]
  },
  {
   "cell_type": "code",
   "execution_count": 13,
   "id": "d32a7935",
   "metadata": {
    "ExecuteTime": {
     "end_time": "2023-02-06T15:41:56.890358Z",
     "start_time": "2023-02-06T15:41:56.864686Z"
    }
   },
   "outputs": [],
   "source": [
    "sc = StandardScaler()\n",
    "x = sc.fit_transform(x)"
   ]
  },
  {
   "cell_type": "code",
   "execution_count": 15,
   "id": "962be162",
   "metadata": {
    "ExecuteTime": {
     "end_time": "2023-02-06T15:42:46.689337Z",
     "start_time": "2023-02-06T15:42:46.678119Z"
    }
   },
   "outputs": [],
   "source": [
    "xtrain,xtest,ytrain,ytest = train_test_split(x,y, test_size=0.2, random_state=1)"
   ]
  },
  {
   "cell_type": "code",
   "execution_count": 17,
   "id": "d38b2492",
   "metadata": {
    "ExecuteTime": {
     "end_time": "2023-02-06T15:47:42.579433Z",
     "start_time": "2023-02-06T15:47:15.801974Z"
    }
   },
   "outputs": [
    {
     "name": "stdout",
     "output_type": "stream",
     "text": [
      "Epoch 1/50\n",
      "250/250 [==============================] - 1s 2ms/step - loss: 0.5398\n",
      "Epoch 2/50\n",
      "250/250 [==============================] - 1s 2ms/step - loss: 0.4740\n",
      "Epoch 3/50\n",
      "250/250 [==============================] - 1s 2ms/step - loss: 0.4562\n",
      "Epoch 4/50\n",
      "250/250 [==============================] - 0s 2ms/step - loss: 0.4469\n",
      "Epoch 5/50\n",
      "250/250 [==============================] - 0s 2ms/step - loss: 0.4401\n",
      "Epoch 6/50\n",
      "250/250 [==============================] - 0s 2ms/step - loss: 0.4344\n",
      "Epoch 7/50\n",
      "250/250 [==============================] - 0s 2ms/step - loss: 0.4286\n",
      "Epoch 8/50\n",
      "250/250 [==============================] - 0s 2ms/step - loss: 0.4223\n",
      "Epoch 9/50\n",
      "250/250 [==============================] - 1s 2ms/step - loss: 0.4157\n",
      "Epoch 10/50\n",
      "250/250 [==============================] - 1s 2ms/step - loss: 0.4091\n",
      "Epoch 11/50\n",
      "250/250 [==============================] - 1s 2ms/step - loss: 0.4026\n",
      "Epoch 12/50\n",
      "250/250 [==============================] - 1s 2ms/step - loss: 0.3967\n",
      "Epoch 13/50\n",
      "250/250 [==============================] - 1s 2ms/step - loss: 0.3913\n",
      "Epoch 14/50\n",
      "250/250 [==============================] - 1s 2ms/step - loss: 0.3867\n",
      "Epoch 15/50\n",
      "250/250 [==============================] - 1s 2ms/step - loss: 0.3826\n",
      "Epoch 16/50\n",
      "250/250 [==============================] - 0s 2ms/step - loss: 0.3789\n",
      "Epoch 17/50\n",
      "250/250 [==============================] - 0s 2ms/step - loss: 0.3761\n",
      "Epoch 18/50\n",
      "250/250 [==============================] - 0s 2ms/step - loss: 0.3734\n",
      "Epoch 19/50\n",
      "250/250 [==============================] - 0s 2ms/step - loss: 0.3712\n",
      "Epoch 20/50\n",
      "250/250 [==============================] - 0s 2ms/step - loss: 0.3693\n",
      "Epoch 21/50\n",
      "250/250 [==============================] - 0s 2ms/step - loss: 0.3677\n",
      "Epoch 22/50\n",
      "250/250 [==============================] - 0s 2ms/step - loss: 0.3663\n",
      "Epoch 23/50\n",
      "250/250 [==============================] - 0s 2ms/step - loss: 0.3649\n",
      "Epoch 24/50\n",
      "250/250 [==============================] - 0s 2ms/step - loss: 0.3638\n",
      "Epoch 25/50\n",
      "250/250 [==============================] - 0s 2ms/step - loss: 0.3631\n",
      "Epoch 26/50\n",
      "250/250 [==============================] - 0s 2ms/step - loss: 0.3620\n",
      "Epoch 27/50\n",
      "250/250 [==============================] - 0s 2ms/step - loss: 0.3612\n",
      "Epoch 28/50\n",
      "250/250 [==============================] - 0s 2ms/step - loss: 0.3606\n",
      "Epoch 29/50\n",
      "250/250 [==============================] - 0s 2ms/step - loss: 0.3600\n",
      "Epoch 30/50\n",
      "250/250 [==============================] - 0s 2ms/step - loss: 0.3596\n",
      "Epoch 31/50\n",
      "250/250 [==============================] - 0s 2ms/step - loss: 0.3589\n",
      "Epoch 32/50\n",
      "250/250 [==============================] - 1s 2ms/step - loss: 0.3585\n",
      "Epoch 33/50\n",
      "250/250 [==============================] - 0s 2ms/step - loss: 0.3581\n",
      "Epoch 34/50\n",
      "250/250 [==============================] - 1s 2ms/step - loss: 0.3579\n",
      "Epoch 35/50\n",
      "250/250 [==============================] - 0s 2ms/step - loss: 0.3575\n",
      "Epoch 36/50\n",
      "250/250 [==============================] - 0s 2ms/step - loss: 0.3573\n",
      "Epoch 37/50\n",
      "250/250 [==============================] - 0s 2ms/step - loss: 0.3568\n",
      "Epoch 38/50\n",
      "250/250 [==============================] - 0s 2ms/step - loss: 0.3566\n",
      "Epoch 39/50\n",
      "250/250 [==============================] - 0s 2ms/step - loss: 0.3565\n",
      "Epoch 40/50\n",
      "250/250 [==============================] - 0s 2ms/step - loss: 0.3562\n",
      "Epoch 41/50\n",
      "250/250 [==============================] - 1s 2ms/step - loss: 0.3560\n",
      "Epoch 42/50\n",
      "250/250 [==============================] - 1s 2ms/step - loss: 0.3559\n",
      "Epoch 43/50\n",
      "250/250 [==============================] - 1s 2ms/step - loss: 0.3556\n",
      "Epoch 44/50\n",
      "250/250 [==============================] - 1s 2ms/step - loss: 0.3555\n",
      "Epoch 45/50\n",
      "250/250 [==============================] - 1s 2ms/step - loss: 0.3553\n",
      "Epoch 46/50\n",
      "250/250 [==============================] - 1s 2ms/step - loss: 0.3552\n",
      "Epoch 47/50\n",
      "250/250 [==============================] - 0s 2ms/step - loss: 0.3551\n",
      "Epoch 48/50\n",
      "250/250 [==============================] - 0s 2ms/step - loss: 0.3549\n",
      "Epoch 49/50\n",
      "250/250 [==============================] - 0s 2ms/step - loss: 0.3547\n",
      "Epoch 50/50\n",
      "250/250 [==============================] - 0s 2ms/step - loss: 0.3548\n"
     ]
    },
    {
     "data": {
      "text/plain": [
       "<keras.callbacks.History at 0x1b1627df640>"
      ]
     },
     "execution_count": 17,
     "metadata": {},
     "output_type": "execute_result"
    }
   ],
   "source": [
    "# Initialize Model\n",
    "ann = Sequential()\n",
    "\n",
    "# Add hidden layer\n",
    "ann.add(Dense(units=6, activation='relu'))\n",
    "\n",
    "# Add output layer\n",
    "ann.add(Dense(units=1, activation='sigmoid'))\n",
    "\n",
    "# Establish the connection between layers\n",
    "ann.compile(optimizer='adam', loss = 'binary_crossentropy')\n",
    "\n",
    "# Fit the data\n",
    "ann.fit(xtrain,ytrain, epochs=50)"
   ]
  },
  {
   "cell_type": "code",
   "execution_count": 18,
   "id": "0ac470cb",
   "metadata": {
    "ExecuteTime": {
     "end_time": "2023-02-06T15:48:33.801426Z",
     "start_time": "2023-02-06T15:48:33.360721Z"
    }
   },
   "outputs": [
    {
     "name": "stdout",
     "output_type": "stream",
     "text": [
      "63/63 [==============================] - 0s 2ms/step\n"
     ]
    },
    {
     "data": {
      "text/plain": [
       "array([[False],\n",
       "       [False],\n",
       "       [False],\n",
       "       ...,\n",
       "       [False],\n",
       "       [False],\n",
       "       [False]])"
      ]
     },
     "execution_count": 18,
     "metadata": {},
     "output_type": "execute_result"
    }
   ],
   "source": [
    "ypred = ann.predict(xtest)\n",
    "ypred = ypred > 0.5\n",
    "ypred"
   ]
  },
  {
   "cell_type": "code",
   "execution_count": 19,
   "id": "3321913d",
   "metadata": {
    "ExecuteTime": {
     "end_time": "2023-02-06T15:48:53.813522Z",
     "start_time": "2023-02-06T15:48:53.774198Z"
    }
   },
   "outputs": [
    {
     "name": "stdout",
     "output_type": "stream",
     "text": [
      "              precision    recall  f1-score   support\n",
      "\n",
      "           0       0.86      0.97      0.92      1585\n",
      "           1       0.80      0.41      0.54       415\n",
      "\n",
      "    accuracy                           0.86      2000\n",
      "   macro avg       0.83      0.69      0.73      2000\n",
      "weighted avg       0.85      0.86      0.84      2000\n",
      "\n"
     ]
    }
   ],
   "source": [
    "print(classification_report(ytest,ypred))"
   ]
  },
  {
   "cell_type": "markdown",
   "id": "97fd4e0a",
   "metadata": {},
   "source": [
    "# Regression"
   ]
  },
  {
   "cell_type": "code",
   "execution_count": 20,
   "id": "71c20687",
   "metadata": {
    "ExecuteTime": {
     "end_time": "2023-02-06T15:49:44.215784Z",
     "start_time": "2023-02-06T15:49:44.164948Z"
    }
   },
   "outputs": [
    {
     "data": {
      "text/html": [
       "<div>\n",
       "<style scoped>\n",
       "    .dataframe tbody tr th:only-of-type {\n",
       "        vertical-align: middle;\n",
       "    }\n",
       "\n",
       "    .dataframe tbody tr th {\n",
       "        vertical-align: top;\n",
       "    }\n",
       "\n",
       "    .dataframe thead th {\n",
       "        text-align: right;\n",
       "    }\n",
       "</style>\n",
       "<table border=\"1\" class=\"dataframe\">\n",
       "  <thead>\n",
       "    <tr style=\"text-align: right;\">\n",
       "      <th></th>\n",
       "      <th>price</th>\n",
       "      <th>feature1</th>\n",
       "      <th>feature2</th>\n",
       "    </tr>\n",
       "  </thead>\n",
       "  <tbody>\n",
       "    <tr>\n",
       "      <th>0</th>\n",
       "      <td>461.527929</td>\n",
       "      <td>999.787558</td>\n",
       "      <td>999.766096</td>\n",
       "    </tr>\n",
       "    <tr>\n",
       "      <th>1</th>\n",
       "      <td>548.130012</td>\n",
       "      <td>998.861615</td>\n",
       "      <td>1001.042403</td>\n",
       "    </tr>\n",
       "    <tr>\n",
       "      <th>2</th>\n",
       "      <td>410.297162</td>\n",
       "      <td>1000.070267</td>\n",
       "      <td>998.844015</td>\n",
       "    </tr>\n",
       "    <tr>\n",
       "      <th>3</th>\n",
       "      <td>540.382220</td>\n",
       "      <td>999.952251</td>\n",
       "      <td>1000.440940</td>\n",
       "    </tr>\n",
       "    <tr>\n",
       "      <th>4</th>\n",
       "      <td>546.024553</td>\n",
       "      <td>1000.446011</td>\n",
       "      <td>1000.338531</td>\n",
       "    </tr>\n",
       "    <tr>\n",
       "      <th>...</th>\n",
       "      <td>...</td>\n",
       "      <td>...</td>\n",
       "      <td>...</td>\n",
       "    </tr>\n",
       "    <tr>\n",
       "      <th>995</th>\n",
       "      <td>476.526078</td>\n",
       "      <td>1000.018988</td>\n",
       "      <td>999.672732</td>\n",
       "    </tr>\n",
       "    <tr>\n",
       "      <th>996</th>\n",
       "      <td>457.313186</td>\n",
       "      <td>998.855379</td>\n",
       "      <td>1000.020026</td>\n",
       "    </tr>\n",
       "    <tr>\n",
       "      <th>997</th>\n",
       "      <td>456.720993</td>\n",
       "      <td>1001.451646</td>\n",
       "      <td>998.847605</td>\n",
       "    </tr>\n",
       "    <tr>\n",
       "      <th>998</th>\n",
       "      <td>403.315576</td>\n",
       "      <td>1000.771023</td>\n",
       "      <td>998.562851</td>\n",
       "    </tr>\n",
       "    <tr>\n",
       "      <th>999</th>\n",
       "      <td>599.367094</td>\n",
       "      <td>999.232244</td>\n",
       "      <td>1001.451407</td>\n",
       "    </tr>\n",
       "  </tbody>\n",
       "</table>\n",
       "<p>1000 rows × 3 columns</p>\n",
       "</div>"
      ],
      "text/plain": [
       "          price     feature1     feature2\n",
       "0    461.527929   999.787558   999.766096\n",
       "1    548.130012   998.861615  1001.042403\n",
       "2    410.297162  1000.070267   998.844015\n",
       "3    540.382220   999.952251  1000.440940\n",
       "4    546.024553  1000.446011  1000.338531\n",
       "..          ...          ...          ...\n",
       "995  476.526078  1000.018988   999.672732\n",
       "996  457.313186   998.855379  1000.020026\n",
       "997  456.720993  1001.451646   998.847605\n",
       "998  403.315576  1000.771023   998.562851\n",
       "999  599.367094   999.232244  1001.451407\n",
       "\n",
       "[1000 rows x 3 columns]"
      ]
     },
     "execution_count": 20,
     "metadata": {},
     "output_type": "execute_result"
    }
   ],
   "source": [
    "df = pd.read_csv(r\"C:\\Users\\HP\\Downloads\\Regression.csv\")\n",
    "df"
   ]
  },
  {
   "cell_type": "code",
   "execution_count": 21,
   "id": "540858e8",
   "metadata": {
    "ExecuteTime": {
     "end_time": "2023-02-06T15:50:11.154396Z",
     "start_time": "2023-02-06T15:50:11.146322Z"
    }
   },
   "outputs": [],
   "source": [
    "import numpy as np \n",
    "sc = StandardScaler()"
   ]
  },
  {
   "cell_type": "code",
   "execution_count": 23,
   "id": "26cba362",
   "metadata": {
    "ExecuteTime": {
     "end_time": "2023-02-06T15:50:58.547528Z",
     "start_time": "2023-02-06T15:50:58.523083Z"
    }
   },
   "outputs": [],
   "source": [
    "x = df.iloc[:,1:]\n",
    "y = df.iloc[:,0]"
   ]
  },
  {
   "cell_type": "code",
   "execution_count": 24,
   "id": "9eed7090",
   "metadata": {
    "ExecuteTime": {
     "end_time": "2023-02-06T15:51:14.906633Z",
     "start_time": "2023-02-06T15:51:14.894810Z"
    }
   },
   "outputs": [],
   "source": [
    "x = sc.fit_transform(x)"
   ]
  },
  {
   "cell_type": "code",
   "execution_count": 25,
   "id": "76522cf3",
   "metadata": {
    "ExecuteTime": {
     "end_time": "2023-02-06T15:51:37.881644Z",
     "start_time": "2023-02-06T15:51:37.872205Z"
    }
   },
   "outputs": [],
   "source": [
    "xtrain,xtest,ytrain,ytest = train_test_split(x,y,test_size=0.2, random_state=1)"
   ]
  },
  {
   "cell_type": "code",
   "execution_count": 26,
   "id": "a6c90841",
   "metadata": {
    "ExecuteTime": {
     "end_time": "2023-02-06T15:54:23.497131Z",
     "start_time": "2023-02-06T15:54:16.373451Z"
    }
   },
   "outputs": [
    {
     "name": "stdout",
     "output_type": "stream",
     "text": [
      "Epoch 1/50\n",
      "25/25 [==============================] - 1s 14ms/step - loss: 255773.8438 - val_loss: 262378.6250\n",
      "Epoch 2/50\n",
      "25/25 [==============================] - 0s 7ms/step - loss: 254980.8125 - val_loss: 261600.7812\n",
      "Epoch 3/50\n",
      "25/25 [==============================] - 0s 6ms/step - loss: 254091.3125 - val_loss: 260647.5625\n",
      "Epoch 4/50\n",
      "25/25 [==============================] - 0s 6ms/step - loss: 252927.3125 - val_loss: 259319.7812\n",
      "Epoch 5/50\n",
      "25/25 [==============================] - 0s 6ms/step - loss: 251246.5469 - val_loss: 257370.9844\n",
      "Epoch 6/50\n",
      "25/25 [==============================] - 0s 6ms/step - loss: 248784.7656 - val_loss: 254419.3438\n",
      "Epoch 7/50\n",
      "25/25 [==============================] - 0s 5ms/step - loss: 245184.9062 - val_loss: 250068.4844\n",
      "Epoch 8/50\n",
      "25/25 [==============================] - 0s 5ms/step - loss: 239951.0625 - val_loss: 244033.1406\n",
      "Epoch 9/50\n",
      "25/25 [==============================] - 0s 6ms/step - loss: 232972.5938 - val_loss: 235564.0156\n",
      "Epoch 10/50\n",
      "25/25 [==============================] - 0s 6ms/step - loss: 223566.8125 - val_loss: 225085.9375\n",
      "Epoch 11/50\n",
      "25/25 [==============================] - 0s 6ms/step - loss: 212150.6406 - val_loss: 212329.8438\n",
      "Epoch 12/50\n",
      "25/25 [==============================] - 0s 6ms/step - loss: 198961.8594 - val_loss: 197471.7812\n",
      "Epoch 13/50\n",
      "25/25 [==============================] - 0s 5ms/step - loss: 183896.1562 - val_loss: 181862.1406\n",
      "Epoch 14/50\n",
      "25/25 [==============================] - 0s 4ms/step - loss: 168430.0469 - val_loss: 164526.1250\n",
      "Epoch 15/50\n",
      "25/25 [==============================] - 0s 5ms/step - loss: 152161.5938 - val_loss: 147480.8906\n",
      "Epoch 16/50\n",
      "25/25 [==============================] - 0s 4ms/step - loss: 136382.6875 - val_loss: 130969.9062\n",
      "Epoch 17/50\n",
      "25/25 [==============================] - 0s 5ms/step - loss: 121585.3281 - val_loss: 115460.7812\n",
      "Epoch 18/50\n",
      "25/25 [==============================] - 0s 5ms/step - loss: 108197.4297 - val_loss: 101359.0469\n",
      "Epoch 19/50\n",
      "25/25 [==============================] - 0s 5ms/step - loss: 96260.9219 - val_loss: 89036.4531\n",
      "Epoch 20/50\n",
      "25/25 [==============================] - 0s 4ms/step - loss: 85842.7578 - val_loss: 78356.3828\n",
      "Epoch 21/50\n",
      "25/25 [==============================] - 0s 4ms/step - loss: 76841.8594 - val_loss: 69006.1719\n",
      "Epoch 22/50\n",
      "25/25 [==============================] - 0s 5ms/step - loss: 68812.2031 - val_loss: 60604.6367\n",
      "Epoch 23/50\n",
      "25/25 [==============================] - 0s 5ms/step - loss: 61112.1641 - val_loss: 53189.1602\n",
      "Epoch 24/50\n",
      "25/25 [==============================] - 0s 4ms/step - loss: 53744.6445 - val_loss: 45975.6016\n",
      "Epoch 25/50\n",
      "25/25 [==============================] - 0s 4ms/step - loss: 46019.2383 - val_loss: 39069.6992\n",
      "Epoch 26/50\n",
      "25/25 [==============================] - 0s 5ms/step - loss: 38266.9492 - val_loss: 31584.4297\n",
      "Epoch 27/50\n",
      "25/25 [==============================] - 0s 5ms/step - loss: 30578.3516 - val_loss: 23812.7656\n",
      "Epoch 28/50\n",
      "25/25 [==============================] - 0s 5ms/step - loss: 22909.5957 - val_loss: 17057.1758\n",
      "Epoch 29/50\n",
      "25/25 [==============================] - 0s 5ms/step - loss: 16159.5039 - val_loss: 11546.0078\n",
      "Epoch 30/50\n",
      "25/25 [==============================] - 0s 5ms/step - loss: 10731.4824 - val_loss: 7394.5449\n",
      "Epoch 31/50\n",
      "25/25 [==============================] - 0s 4ms/step - loss: 6764.4956 - val_loss: 4518.0342\n",
      "Epoch 32/50\n",
      "25/25 [==============================] - 0s 4ms/step - loss: 4081.0859 - val_loss: 2649.9802\n",
      "Epoch 33/50\n",
      "25/25 [==============================] - 0s 4ms/step - loss: 2375.8123 - val_loss: 1498.7124\n",
      "Epoch 34/50\n",
      "25/25 [==============================] - 0s 4ms/step - loss: 1345.8250 - val_loss: 827.6608\n",
      "Epoch 35/50\n",
      "25/25 [==============================] - 0s 4ms/step - loss: 743.7778 - val_loss: 459.8851\n",
      "Epoch 36/50\n",
      "25/25 [==============================] - 0s 4ms/step - loss: 410.4304 - val_loss: 255.7555\n",
      "Epoch 37/50\n",
      "25/25 [==============================] - 0s 4ms/step - loss: 228.0867 - val_loss: 145.3970\n",
      "Epoch 38/50\n",
      "25/25 [==============================] - 0s 4ms/step - loss: 130.2210 - val_loss: 87.1959\n",
      "Epoch 39/50\n",
      "25/25 [==============================] - 0s 4ms/step - loss: 78.7084 - val_loss: 56.0619\n",
      "Epoch 40/50\n",
      "25/25 [==============================] - 0s 4ms/step - loss: 51.3557 - val_loss: 40.9858\n",
      "Epoch 41/50\n",
      "25/25 [==============================] - 0s 4ms/step - loss: 37.2824 - val_loss: 33.5653\n",
      "Epoch 42/50\n",
      "25/25 [==============================] - 0s 4ms/step - loss: 30.2567 - val_loss: 30.1151\n",
      "Epoch 43/50\n",
      "25/25 [==============================] - 0s 5ms/step - loss: 26.7030 - val_loss: 28.5190\n",
      "Epoch 44/50\n",
      "25/25 [==============================] - 0s 4ms/step - loss: 24.8811 - val_loss: 27.9747\n",
      "Epoch 45/50\n",
      "25/25 [==============================] - 0s 4ms/step - loss: 24.0208 - val_loss: 27.8448\n",
      "Epoch 46/50\n",
      "25/25 [==============================] - 0s 4ms/step - loss: 23.6310 - val_loss: 27.6603\n",
      "Epoch 47/50\n",
      "25/25 [==============================] - 0s 4ms/step - loss: 23.4093 - val_loss: 27.7520\n",
      "Epoch 48/50\n",
      "25/25 [==============================] - 0s 4ms/step - loss: 23.3083 - val_loss: 27.8411\n",
      "Epoch 49/50\n",
      "25/25 [==============================] - 0s 4ms/step - loss: 23.2735 - val_loss: 27.9220\n",
      "Epoch 50/50\n",
      "25/25 [==============================] - 0s 4ms/step - loss: 23.2571 - val_loss: 27.9879\n"
     ]
    },
    {
     "data": {
      "text/plain": [
       "<keras.callbacks.History at 0x1b1603eb940>"
      ]
     },
     "execution_count": 26,
     "metadata": {},
     "output_type": "execute_result"
    }
   ],
   "source": [
    "# Initialize Model\n",
    "ann = Sequential()\n",
    "\n",
    "# Add hidden layer\n",
    "ann.add(Dense(units=30, activation='linear'))\n",
    "ann.add(Dense(units=20, activation='relu'))\n",
    "\n",
    "# Add output layer\n",
    "ann.add(Dense(units=1))\n",
    "\n",
    "# Establish the connection between layers\n",
    "ann.compile(optimizer='adam', loss = 'mse')\n",
    "\n",
    "# Fit the data\n",
    "ann.fit(xtrain,ytrain, validation_data=(xtest,ytest),epochs=50)"
   ]
  },
  {
   "cell_type": "code",
   "execution_count": 27,
   "id": "645aa8c5",
   "metadata": {
    "ExecuteTime": {
     "end_time": "2023-02-06T15:54:57.772241Z",
     "start_time": "2023-02-06T15:54:57.403413Z"
    }
   },
   "outputs": [
    {
     "data": {
      "text/plain": [
       "<AxesSubplot:>"
      ]
     },
     "execution_count": 27,
     "metadata": {},
     "output_type": "execute_result"
    },
    {
     "data": {
      "image/png": "[encoded data removed]",
      "text/plain": [
       "<Figure size 640x480 with 1 Axes>"
      ]
     },
     "metadata": {},
     "output_type": "display_data"
    }
   ],
   "source": [
    "loss = pd.DataFrame(ann.history.history)\n",
    "loss.plot()"
   ]
  },
  {
   "cell_type": "code",
   "execution_count": 28,
   "id": "5bccfb37",
   "metadata": {
    "ExecuteTime": {
     "end_time": "2023-02-06T15:55:20.513479Z",
     "start_time": "2023-02-06T15:55:20.281952Z"
    }
   },
   "outputs": [
    {
     "name": "stdout",
     "output_type": "stream",
     "text": [
      "7/7 [==============================] - 0s 3ms/step\n"
     ]
    }
   ],
   "source": [
    "ypre = ann.predict(xtest)"
   ]
  },
  {
   "cell_type": "code",
   "execution_count": 30,
   "id": "28120cd7",
   "metadata": {
    "ExecuteTime": {
     "end_time": "2023-02-06T15:55:45.615151Z",
     "start_time": "2023-02-06T15:55:45.595673Z"
    }
   },
   "outputs": [
    {
     "data": {
      "text/plain": [
       "array([[False],\n",
       "       [False],\n",
       "       [False],\n",
       "       ...,\n",
       "       [False],\n",
       "       [False],\n",
       "       [False]])"
      ]
     },
     "execution_count": 30,
     "metadata": {},
     "output_type": "execute_result"
    }
   ],
   "source": [
    "ypred"
   ]
  }
 ],
 "metadata": {
  "kernelspec": {
   "display_name": "Python 3 (ipykernel)",
   "language": "python",
   "name": "python3"
  },
  "language_info": {
   "codemirror_mode": {
    "name": "ipython",
    "version": 3
   },
   "file_extension": ".py",
   "mimetype": "text/x-python",
   "name": "python",
   "nbconvert_exporter": "python",
   "pygments_lexer": "ipython3",
   "version": "3.9.13"
  }
 },
 "nbformat": 4,
 "nbformat_minor": 5
}
